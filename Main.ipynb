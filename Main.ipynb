{
 "cells": [
  {
   "cell_type": "code",
   "execution_count": 4,
   "metadata": {},
   "outputs": [],
   "source": [
    "import numpy as np\n",
    "import pandas as pd\n",
    "import seaborn as sb\n",
    "import matplotlib.pyplot as plt\n",
    "from sklearn.model_selection import train_test_split"
   ]
  },
  {
   "cell_type": "code",
   "execution_count": 11,
   "metadata": {},
   "outputs": [
    {
     "data": {
      "text/html": [
       "<div>\n",
       "<style scoped>\n",
       "    .dataframe tbody tr th:only-of-type {\n",
       "        vertical-align: middle;\n",
       "    }\n",
       "\n",
       "    .dataframe tbody tr th {\n",
       "        vertical-align: top;\n",
       "    }\n",
       "\n",
       "    .dataframe thead th {\n",
       "        text-align: right;\n",
       "    }\n",
       "</style>\n",
       "<table border=\"1\" class=\"dataframe\">\n",
       "  <thead>\n",
       "    <tr style=\"text-align: right;\">\n",
       "      <th></th>\n",
       "      <th>SKU</th>\n",
       "      <th>Product Name - English</th>\n",
       "      <th>Product Name - Chinese</th>\n",
       "      <th>Date of Purchase</th>\n",
       "      <th>Quantity of Order Placed</th>\n",
       "      <th>Quantity of Order Received</th>\n",
       "    </tr>\n",
       "  </thead>\n",
       "  <tbody>\n",
       "    <tr>\n",
       "      <th>0</th>\n",
       "      <td>A001</td>\n",
       "      <td>Enoki Mushroom</td>\n",
       "      <td>金针菇</td>\n",
       "      <td>2018/01/01</td>\n",
       "      <td>120.0</td>\n",
       "      <td>120.0</td>\n",
       "    </tr>\n",
       "    <tr>\n",
       "      <th>1</th>\n",
       "      <td>A001</td>\n",
       "      <td>Enoki Mushroom</td>\n",
       "      <td>金针菇</td>\n",
       "      <td>2018/01/02</td>\n",
       "      <td>80.0</td>\n",
       "      <td>80.0</td>\n",
       "    </tr>\n",
       "    <tr>\n",
       "      <th>2</th>\n",
       "      <td>A001</td>\n",
       "      <td>Enoki Mushroom</td>\n",
       "      <td>金针菇</td>\n",
       "      <td>2018/01/03</td>\n",
       "      <td>50.0</td>\n",
       "      <td>50.0</td>\n",
       "    </tr>\n",
       "    <tr>\n",
       "      <th>3</th>\n",
       "      <td>A001</td>\n",
       "      <td>Enoki Mushroom</td>\n",
       "      <td>金针菇</td>\n",
       "      <td>2018/01/04</td>\n",
       "      <td>30.0</td>\n",
       "      <td>30.0</td>\n",
       "    </tr>\n",
       "    <tr>\n",
       "      <th>4</th>\n",
       "      <td>A001</td>\n",
       "      <td>Enoki Mushroom</td>\n",
       "      <td>金针菇</td>\n",
       "      <td>2018/01/05</td>\n",
       "      <td>100.0</td>\n",
       "      <td>100.0</td>\n",
       "    </tr>\n",
       "  </tbody>\n",
       "</table>\n",
       "</div>"
      ],
      "text/plain": [
       "    SKU Product Name - English Product Name - Chinese Date of Purchase  \\\n",
       "0  A001         Enoki Mushroom                    金针菇       2018/01/01   \n",
       "1  A001         Enoki Mushroom                    金针菇       2018/01/02   \n",
       "2  A001         Enoki Mushroom                    金针菇       2018/01/03   \n",
       "3  A001         Enoki Mushroom                    金针菇       2018/01/04   \n",
       "4  A001         Enoki Mushroom                    金针菇       2018/01/05   \n",
       "\n",
       "   Quantity of Order Placed  Quantity of Order Received  \n",
       "0                     120.0                       120.0  \n",
       "1                      80.0                        80.0  \n",
       "2                      50.0                        50.0  \n",
       "3                      30.0                        30.0  \n",
       "4                     100.0                       100.0  "
      ]
     },
     "execution_count": 11,
     "metadata": {},
     "output_type": "execute_result"
    }
   ],
   "source": [
    "purchase = pd.read_excel('Master Data (Purchase).xlsx')\n",
    "sales = pd.read_excel('Master Data (Sales).xlsx')\n",
    "purchase.head()"
   ]
  },
  {
   "cell_type": "code",
   "execution_count": null,
   "metadata": {},
   "outputs": [],
   "source": []
  },
  {
   "cell_type": "code",
   "execution_count": null,
   "metadata": {},
   "outputs": [],
   "source": []
  }
 ],
 "metadata": {
  "kernelspec": {
   "display_name": "Python 3",
   "language": "python",
   "name": "python3"
  },
  "language_info": {
   "codemirror_mode": {
    "name": "ipython",
    "version": 3
   },
   "file_extension": ".py",
   "mimetype": "text/x-python",
   "name": "python",
   "nbconvert_exporter": "python",
   "pygments_lexer": "ipython3",
   "version": "3.8.3"
  }
 },
 "nbformat": 4,
 "nbformat_minor": 4
}
